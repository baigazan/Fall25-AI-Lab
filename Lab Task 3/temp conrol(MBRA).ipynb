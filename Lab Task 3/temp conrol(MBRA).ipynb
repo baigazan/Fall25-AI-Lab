{
 "cells": [
  {
   "cell_type": "code",
   "execution_count": null,
   "id": "ecd50940",
   "metadata": {},
   "outputs": [
    {
     "name": "stdout",
     "output_type": "stream",
     "text": [
      "Living Room: current_temp: 20 avgpast_temp: 20.0 action : turn on AC\n",
      "Drawin Room: current_temp: 22 avgpast_temp: 22.0 action : turn on AC\n",
      "Kitchen: current_temp: 34 avgpast_temp: 33.2 action : turn on AC\n",
      "Bed Room: current_temp: 16 avgpast_temp: 15.0 action : turn of AC\n"
     ]
    }
   ],
   "source": [
    "class modelbasereflexagent:\n",
    "    def __init__(self,temp,hist_file,):\n",
    "        self.fixed_temp = temp\n",
    "        self.hist_file = hist_file\n",
    "    def check_past_temp(self,room):\n",
    "        with open(self.hist_file,\"r\") as f:\n",
    "            temps = [int(t) for line in f for r,t in [line.strip().split(\":\")] if r == room]\n",
    "        if temps:\n",
    "             return sum(temps)/len(temps)\n",
    "        return None\n",
    "    def performance(self,room,current_temp):\n",
    "        past_temp = self.check_past_temp(room)\n",
    "        action = None\n",
    "        if past_temp is None:\n",
    "            past_temp = current_temp\n",
    "        if current_temp > self.fixed_temp and past_temp > self.fixed_temp:\n",
    "            action = \"turn on AC\"\n",
    "        else:\n",
    "            action = \"turn of AC\"\n",
    "        \n",
    "        return action,past_temp\n",
    "    \n",
    "    def actuator(self,room,current_temp):\n",
    "        action,past_temp = self.performance(room,current_temp)   \n",
    "        print(f\"{room}: current_temp: {current_temp} avgpast_temp: {past_temp:.1f} action : {action}\")         \n",
    "\n",
    "rooms = {\n",
    "    \"Living Room\": 20,\n",
    "    \"Drawing Room\": 22,\n",
    "    \"Kitchen\": 34,\n",
    "    \"Bed Room\": 16\n",
    "}\n",
    "\n",
    "agent = modelbasereflexagent(16,\"history.txt\")\n",
    "for room, temp in rooms.items():\n",
    "    agent.acuator(room, temp)\n"
   ]
  }
 ],
 "metadata": {
  "kernelspec": {
   "display_name": "Python 3",
   "language": "python",
   "name": "python3"
  },
  "language_info": {
   "codemirror_mode": {
    "name": "ipython",
    "version": 3
   },
   "file_extension": ".py",
   "mimetype": "text/x-python",
   "name": "python",
   "nbconvert_exporter": "python",
   "pygments_lexer": "ipython3",
   "version": "3.12.4"
  }
 },
 "nbformat": 4,
 "nbformat_minor": 5
}
