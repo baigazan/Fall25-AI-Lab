{
 "cells": [
  {
   "cell_type": "code",
   "execution_count": 13,
   "id": "3f2b935c",
   "metadata": {},
   "outputs": [
    {
     "name": "stdout",
     "output_type": "stream",
     "text": [
      "['A', 'B', 'D', 'E', 'C', 'F']\n"
     ]
    }
   ],
   "source": [
    "tree = {\n",
    "    'A': ['B', 'C'],\n",
    "    'B': ['D', 'E'],\n",
    "    'C': ['F'],\n",
    "    'D': [],\n",
    "    'E': [],\n",
    "    'F': ['G'],\n",
    "    'G': []\n",
    "}\n",
    "\n",
    "def dfs(start, goal):\n",
    "    visited = []\n",
    "    stack = [start]\n",
    "\n",
    "    while stack:   \n",
    "        current = stack.pop()\n",
    "        if current not in visited:\n",
    "            visited.append(current)\n",
    "\n",
    "            if current == goal:   \n",
    "                break\n",
    "\n",
    "            stack.extend(reversed(tree[current]))\n",
    "\n",
    "    return visited\n",
    "\n",
    "print(dfs('A', 'F'))\n",
    "\n"
   ]
  }
 ],
 "metadata": {
  "kernelspec": {
   "display_name": "Python 3",
   "language": "python",
   "name": "python3"
  },
  "language_info": {
   "codemirror_mode": {
    "name": "ipython",
    "version": 3
   },
   "file_extension": ".py",
   "mimetype": "text/x-python",
   "name": "python",
   "nbconvert_exporter": "python",
   "pygments_lexer": "ipython3",
   "version": "3.12.4"
  }
 },
 "nbformat": 4,
 "nbformat_minor": 5
}
