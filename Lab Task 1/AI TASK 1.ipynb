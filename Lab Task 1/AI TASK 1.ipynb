{
 "cells": [
  {
   "cell_type": "code",
   "execution_count": null,
   "id": "959ba92d",
   "metadata": {},
   "outputs": [
    {
     "name": "stdout",
     "output_type": "stream",
     "text": [
      "Dynamic calculator\n",
      "5 + 10 = 15\n",
      "500 - 200 = 300\n",
      "400 ÷ 2 = 200.0\n",
      "1+2*3*(4-5/4)-(3/5) = 16.9\n"
     ]
    }
   ],
   "source": [
    "class calculator:\n",
    "    def __init__(self):\n",
    "        print(\"Dynamic calculator\")\n",
    "        self.operations = {\"+\": self.add, \"-\": self.subtract, \"*\" : self.multiply,\"/\": self.divide}\n",
    "\n",
    "    \n",
    "    def add(self,a,b):\n",
    "        return f\"{a} + {b} = {a+b}\"\n",
    "    \n",
    "    def subtract(self,a,b):\n",
    "        return f\"{a} - {b} = {a-b}\"\n",
    "    \n",
    "    def multiply(self,a,b):\n",
    "        return f\"{a} x {b} = {a*b}\"\n",
    "    \n",
    "    def divide(self,a,b):\n",
    "        if b == 0:\n",
    "            return \"infinity(not divide by zero)\"\n",
    "        else:\n",
    "            return f\"{a} ÷ {b} = {a/b}\"\n",
    "    \n",
    "    def calculate(self,a,operator,b):\n",
    "        if operator in self.operations:\n",
    "            return self.operations[operator](a,b)\n",
    "        else:\n",
    "            return \"put a correct operatOR\"\n",
    "    \n",
    "    def solving(self,expression):\n",
    "        try:\n",
    "            result = eval(expression)\n",
    "            return result\n",
    "        except Exception as e:\n",
    "            return f\"something went wrong : {e}\"\n",
    "        \n",
    "cal = calculator()\n",
    "print(cal.calculate(5,\"+\",10))\n",
    "print(cal.calculate(500,\"-\",200))\n",
    "print(cal.calculate(400,\"/\",2))\n",
    "\n",
    "exp = input(\"enter the expression\")\n",
    "print(f\"{exp} = {cal.solving(exp)}\")\n"
   ]
  }
 ],
 "metadata": {
  "kernelspec": {
   "display_name": "base",
   "language": "python",
   "name": "python3"
  },
  "language_info": {
   "codemirror_mode": {
    "name": "ipython",
    "version": 3
   },
   "file_extension": ".py",
   "mimetype": "text/x-python",
   "name": "python",
   "nbconvert_exporter": "python",
   "pygments_lexer": "ipython3",
   "version": "3.12.4"
  }
 },
 "nbformat": 4,
 "nbformat_minor": 5
}
