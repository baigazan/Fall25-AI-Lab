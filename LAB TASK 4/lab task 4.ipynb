{
 "cells": [
  {
   "cell_type": "markdown",
   "id": "bf3bace0",
   "metadata": {},
   "source": [
    "### __Remove Special Characters__"
   ]
  },
  {
   "cell_type": "code",
   "execution_count": 1,
   "id": "a3f9630f",
   "metadata": {},
   "outputs": [
    {
     "name": "stdout",
     "output_type": "stream",
     "text": [
      "original text: kuch,bhi:kuch?bhi\n",
      "cleaned text :  kuchbhikuchbhi\n"
     ]
    }
   ],
   "source": [
    "def remove_special_characters(s):\n",
    "    result = ' '\n",
    "    for char in s:\n",
    "        if char.isalnum() or char == ' ' :\n",
    "            result += char\n",
    "    return result\n",
    "text = \"kuch,bhi:kuch?bhi\"\n",
    "print(f\"original text: {text}\")\n",
    "print(f\"cleaned text : {remove_special_characters(text)}\")"
   ]
  },
  {
   "cell_type": "markdown",
   "id": "93b36921",
   "metadata": {},
   "source": [
    "### __Sorting by ASCII value__"
   ]
  },
  {
   "cell_type": "code",
   "execution_count": 3,
   "id": "52a42e21",
   "metadata": {},
   "outputs": [
    {
     "name": "stdout",
     "output_type": "stream",
     "text": [
      "Original: i am Azan\n",
      "Sorted:   Aaaimnz\n"
     ]
    }
   ],
   "source": [
    "def bubble_sort(s):\n",
    "    char = list(s)\n",
    "    n = len(char)\n",
    "    for i in range(n):\n",
    "        for j in range(n-i-1):\n",
    "            if ord(char[j]) > ord(char[j+1]):\n",
    "                char[j], char[j+1] = char[j+1],char[j]\n",
    "    return ''.join(char)\n",
    "text = \"i am Azan\"\n",
    "sorted = bubble_sort(text)\n",
    "print(\"Original:\", text)\n",
    "print(\"Sorted:\", sorted)\n"
   ]
  },
  {
   "cell_type": "code",
   "execution_count": 5,
   "id": "b2d4859f",
   "metadata": {},
   "outputs": [
    {
     "name": "stdout",
     "output_type": "stream",
     "text": [
      "Original: i am Azan student in AI lab\n",
      "Words Sorted: AI Azan am i in lab student\n"
     ]
    }
   ],
   "source": [
    "def bubble_sort_words(s):\n",
    "    words = s.split()\n",
    "    n = len(words)\n",
    "    for i in range(n):\n",
    "        for j in range(n-i-1):\n",
    "            k = 0\n",
    "            while k < len(words[j]) and k < len(words[j+1]):\n",
    "                if ord(words[j][k]) > ord(words[j+1][k]):\n",
    "                    words[j], words[j+1] = words[j+1], words[j]\n",
    "                    break\n",
    "                elif ord(words[j][k]) < ord(words[j+1][k]):\n",
    "                    break\n",
    "                k += 1\n",
    "            else:\n",
    "                if len(words[j]) > len(words[j+1]):\n",
    "                    words[j], words[j+1] = words[j+1], words[j]\n",
    "    return ' '.join(words)\n",
    "\n",
    "text = \"i am Azan student in AI lab\"\n",
    "sorted_words = bubble_sort_words(text)\n",
    "print(\"Original:\", text)\n",
    "print(\"Words Sorted:\", sorted_words)"
   ]
  },
  {
   "cell_type": "markdown",
   "id": "7e53777c",
   "metadata": {},
   "source": [
    "### __LUHN Algorithm__"
   ]
  },
  {
   "cell_type": "code",
   "execution_count": null,
   "id": "47e1397c",
   "metadata": {},
   "outputs": [
    {
     "name": "stdout",
     "output_type": "stream",
     "text": [
      "the card number 4532015112830366 is valid\n"
     ]
    }
   ],
   "source": [
    "class card_checker:\n",
    "    def __init__(self,card_num):\n",
    "        self.card_num = str(card_num)\n",
    "    def check_valid(self):\n",
    "        digits = [int(x) for x in self.card_num]\n",
    "        remove_dig = digits.pop()\n",
    "        digits.reverse()\n",
    "\n",
    "        for i in range(len(digits)):\n",
    "            if i % 2 == 0:\n",
    "                digits[i] *=2\n",
    "                if digits[i] > 9:\n",
    "                    digits[i] -= 9\n",
    "        total = sum(digits) + remove_dig\n",
    "        return total % 10 == 0\n",
    "    \n",
    "card_number = card_checker(4532015112830366)\n",
    "\n",
    "if card_number.check_valid():\n",
    "    print(f\"the card number {card_number.card_num} is valid\")\n",
    "else:\n",
    "    print(f\"the card number {card_number.card_num} is not valid\")"
   ]
  }
 ],
 "metadata": {
  "kernelspec": {
   "display_name": "Python 3",
   "language": "python",
   "name": "python3"
  },
  "language_info": {
   "codemirror_mode": {
    "name": "ipython",
    "version": 3
   },
   "file_extension": ".py",
   "mimetype": "text/x-python",
   "name": "python",
   "nbconvert_exporter": "python",
   "pygments_lexer": "ipython3",
   "version": "3.12.4"
  }
 },
 "nbformat": 4,
 "nbformat_minor": 5
}
