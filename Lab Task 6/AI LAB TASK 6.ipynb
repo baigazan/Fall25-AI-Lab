{
 "cells": [
  {
   "cell_type": "code",
   "execution_count": 3,
   "id": "59d03eb7",
   "metadata": {},
   "outputs": [
    {
     "name": "stdout",
     "output_type": "stream",
     "text": [
      "['A', 'B', 'C', 'D', 'E', 'F']\n"
     ]
    }
   ],
   "source": [
    "tree = {\n",
    "    'A' : ['B','C'],\n",
    "    'B' : ['D','E'],\n",
    "    'C' : ['F'],\n",
    "    'D' : [],\n",
    "    'E' : [],\n",
    "    'F' : ['G'],\n",
    "    'G' : []\n",
    "}\n",
    "\n",
    "def bfs(start,goal):\n",
    "    visit = []\n",
    "    queue = [start]\n",
    "\n",
    "    while queue:\n",
    "        current = queue.pop(0)\n",
    "        if current not in visit:\n",
    "            visit.append(current)\n",
    "\n",
    "            if current == goal:\n",
    "                return visit\n",
    "            \n",
    "            for ch in tree[current]:\n",
    "                queue.append(ch)\n",
    "    return visit\n",
    "\n",
    "print(bfs('A','F'))"
   ]
  },
  {
   "cell_type": "code",
   "execution_count": 2,
   "id": "6e03ae57",
   "metadata": {},
   "outputs": [
    {
     "name": "stdout",
     "output_type": "stream",
     "text": [
      "['A', 'B', 'C', 'D', 'E', 'F']\n"
     ]
    }
   ],
   "source": [
    "tree = {\n",
    "    'A': ['B', 'C'],\n",
    "    'B': ['D', 'E'],\n",
    "    'C': ['F'],\n",
    "    'D': [],\n",
    "    'E': [],\n",
    "    'F': ['G'],\n",
    "    'G': []\n",
    "}\n",
    "visited = list()\n",
    "\n",
    "def bfs(start, goal):\n",
    "    level = [start]   \n",
    "\n",
    "    while level:      \n",
    "        next_level = []\n",
    "        for c in level:\n",
    "            if c not in visited:\n",
    "                visited.append(c)\n",
    "\n",
    "                if c == goal:\n",
    "                    return\n",
    "\n",
    "            \n",
    "                for ch in tree[c]:\n",
    "                    next_level.append(ch)\n",
    "        level = next_level  \n",
    "\n",
    "\n",
    "bfs('A', 'F')\n",
    "print(visited)  \n"
   ]
  }
 ],
 "metadata": {
  "kernelspec": {
   "display_name": "Python 3",
   "language": "python",
   "name": "python3"
  },
  "language_info": {
   "codemirror_mode": {
    "name": "ipython",
    "version": 3
   },
   "file_extension": ".py",
   "mimetype": "text/x-python",
   "name": "python",
   "nbconvert_exporter": "python",
   "pygments_lexer": "ipython3",
   "version": "3.14.0rc3"
  }
 },
 "nbformat": 4,
 "nbformat_minor": 5
}
