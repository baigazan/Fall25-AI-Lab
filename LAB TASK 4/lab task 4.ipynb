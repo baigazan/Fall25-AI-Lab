{
 "cells": [
  {
   "cell_type": "markdown",
   "id": "bf3bace0",
   "metadata": {},
   "source": [
    "### __Remove Special Characters__"
   ]
  },
  {
   "cell_type": "code",
   "execution_count": 1,
   "id": "a3f9630f",
   "metadata": {},
   "outputs": [
    {
     "name": "stdout",
     "output_type": "stream",
     "text": [
      "original text: kuch,bhi:kuch?bhi\n",
      "cleaned text :  kuchbhikuchbhi\n"
     ]
    }
   ],
   "source": [
    "def remove_special_characters(s):\n",
    "    result = ' '\n",
    "    for char in s:\n",
    "        if char.isalnum() or char == ' ' :\n",
    "            result += char\n",
    "    return result\n",
    "text = \"kuch,bhi:kuch?bhi\"\n",
    "print(f\"original text: {text}\")\n",
    "print(f\"cleaned text : {remove_special_characters(text)}\")"
   ]
  },
  {
   "cell_type": "markdown",
   "id": "93b36921",
   "metadata": {},
   "source": [
    "### __Sorting by ASCII value__"
   ]
  },
  {
   "cell_type": "code",
   "execution_count": 3,
   "id": "52a42e21",
   "metadata": {},
   "outputs": [
    {
     "name": "stdout",
     "output_type": "stream",
     "text": [
      "Original: i am Azan\n",
      "Sorted:   Aaaimnz\n"
     ]
    }
   ],
   "source": [
    "def bubble_sort(s):\n",
    "    char = list(s)\n",
    "    n = len(char)\n",
    "    for i in range(n):\n",
    "        for j in range(n-i-1):\n",
    "            if ord(char[j]) > ord(char[j+1]):\n",
    "                char[j], char[j+1] = char[j+1],char[j]\n",
    "    return ''.join(char)\n",
    "text = \"i am Azan\"\n",
    "sorted = bubble_sort(text)\n",
    "print(\"Original:\", text)\n",
    "print(\"Sorted:\", sorted)\n"
   ]
  },
  {
   "cell_type": "markdown",
   "id": "5023ecdd",
   "metadata": {},
   "source": [
    "### __sorting by words__"
   ]
  },
  {
   "cell_type": "code",
   "execution_count": null,
   "id": "378a45e1",
   "metadata": {},
   "outputs": [
    {
     "name": "stdout",
     "output_type": "stream",
     "text": [
      "Sorted words: AI Azan am i in lab student\n"
     ]
    }
   ],
   "source": [
    "\n",
    "sentence = input(\"Enter a sentence: \")\n",
    "words = sentence.split()\n",
    "words.sort()\n",
    "sort_sentence = ' '.join(words)\n",
    "print(\"Sorted words:\", sort_sentence)\n"
   ]
  },
  {
   "cell_type": "markdown",
   "id": "7e53777c",
   "metadata": {},
   "source": [
    "### __LUHN Algorithm__"
   ]
  },
  {
   "cell_type": "code",
   "execution_count": null,
   "id": "47e1397c",
   "metadata": {},
   "outputs": [
    {
     "name": "stdout",
     "output_type": "stream",
     "text": [
      "the card number 4532015112830366 is valid\n"
     ]
    }
   ],
   "source": [
    "class card_checker:\n",
    "    def __init__(self,card_num):\n",
    "        self.card_num = str(card_num)\n",
    "    def check_valid(self):\n",
    "        digits = [int(x) for x in self.card_num]\n",
    "        remove_dig = digits.pop()\n",
    "        digits.reverse()\n",
    "\n",
    "        for i in range(len(digits)):\n",
    "            if i % 2 == 0:\n",
    "                digits[i] *=2\n",
    "                if digits[i] > 9:\n",
    "                    digits[i] -= 9\n",
    "        total = sum(digits) + remove_dig\n",
    "        return total % 10 == 0\n",
    "    \n",
    "card_number = card_checker(4532015112830366)\n",
    "\n",
    "if card_number.check_valid():\n",
    "    print(f\"the card number {card_number.card_num} is valid\")\n",
    "else:\n",
    "    print(f\"the card number {card_number.card_num} is not valid\")"
   ]
  }
 ],
 "metadata": {
  "kernelspec": {
   "display_name": "Python 3",
   "language": "python",
   "name": "python3"
  },
  "language_info": {
   "codemirror_mode": {
    "name": "ipython",
    "version": 3
   },
   "file_extension": ".py",
   "mimetype": "text/x-python",
   "name": "python",
   "nbconvert_exporter": "python",
   "pygments_lexer": "ipython3",
   "version": "3.14.0"
  }
 },
 "nbformat": 4,
 "nbformat_minor": 5
}
