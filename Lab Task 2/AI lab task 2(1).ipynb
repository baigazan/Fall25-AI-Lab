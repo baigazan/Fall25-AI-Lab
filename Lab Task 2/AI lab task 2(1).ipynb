{
 "cells": [
  {
   "cell_type": "code",
   "execution_count": 19,
   "id": "a509a4fc",
   "metadata": {},
   "outputs": [
    {
     "name": "stdout",
     "output_type": "stream",
     "text": [
      "average budget of movies : 159714285.7142857\n",
      "movies budget higher than average budget\n",
      "movie : Spider-Man: No Way Home has spent 40285714.2857143 more than average budget\n",
      "movie : The Dark Knight has spent 25285714.2857143 more than average budget\n",
      "movie : Black Panther has spent 50285714.2857143 more than average budget\n",
      "movie : The Lion king has spent 100285714.2857143 more than average budget\n",
      "total movies above average : 4\n"
     ]
    }
   ],
   "source": [
    "movies = [\n",
    "    (\"Batman Begins\", 150000000),\n",
    "    (\"Joker\", 55000000),\n",
    "    (\"Spider-Man: No Way Home\", 200000000),\n",
    "    (\"The Dark Knight\", 185000000),\n",
    "    (\"Deadpool\", 58000000),\n",
    "    (\"Black Panther\", 210000000),\n",
    "    (\"The Lion king\", 260000000)\n",
    "]\n",
    "\n",
    "\n",
    "num = int(input(\"how many movies you want to add\"))\n",
    "\n",
    "for i in range(num):\n",
    "    name = input(f\"enter movie name\")\n",
    "    budget = int(input(\"enter movie budget\"))\n",
    "    movies.append((name,budget))\n",
    "    print(f\"{num} movies you add name: {name} budget: {budget}\")\n",
    "\n",
    "total_budget = 0\n",
    "for movie in movies:\n",
    "    total_budget += movie[1]\n",
    "\n",
    "avg_budget = total_budget/len(movies)\n",
    "print(f\"average budget of movies : {avg_budget}\")\n",
    "\n",
    "count = 0\n",
    "print(\"movies budget higher than average budget\")\n",
    "\n",
    "for movie in movies:\n",
    "    name = movie[0]\n",
    "    budget = movie[1]\n",
    "    if budget > avg_budget:\n",
    "        diff = budget - avg_budget\n",
    "        print(f\"movie : {name} has spent {diff} more than average budget\")\n",
    "        count += 1\n",
    "print(f\"total movies above average : {count}\")\n"
   ]
  }
 ],
 "metadata": {
  "kernelspec": {
   "display_name": "base",
   "language": "python",
   "name": "python3"
  },
  "language_info": {
   "codemirror_mode": {
    "name": "ipython",
    "version": 3
   },
   "file_extension": ".py",
   "mimetype": "text/x-python",
   "name": "python",
   "nbconvert_exporter": "python",
   "pygments_lexer": "ipython3",
   "version": "3.12.4"
  }
 },
 "nbformat": 4,
 "nbformat_minor": 5
}
